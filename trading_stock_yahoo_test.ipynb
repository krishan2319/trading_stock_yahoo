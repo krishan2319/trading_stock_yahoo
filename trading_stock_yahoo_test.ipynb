{
  "nbformat": 4,
  "nbformat_minor": 0,
  "metadata": {
    "colab": {
      "name": "testing purpose.ipynb",
      "provenance": [],
      "collapsed_sections": [],
      "authorship_tag": "ABX9TyNpd8BFeojQbAVA+KHqpuZ8"
    },
    "kernelspec": {
      "name": "python3",
      "display_name": "Python 3"
    }
  },
  "cells": [
    {
      "cell_type": "code",
      "metadata": {
        "id": "pfqKCyYoAbxa",
        "colab_type": "code",
        "colab": {
          "base_uri": "https://localhost:8080/",
          "height": 50
        },
        "outputId": "ec649812-844d-40ba-99b9-1d1f7ab72fab"
      },
      "source": [
        "import lxml.html as lh\n",
        "import time\n",
        "import urllib.request\n",
        "import argparse\n",
        "import datetime\n",
        "import pytz\n",
        "from selenium import webdriver\n",
        "from selenium.common.exceptions import StaleElementReferenceException\n",
        "import os\n",
        "import coloredlogs\n",
        "import pandas as pd\n",
        "import numpy as np\n",
        "import pandas.util.testing as tm\n",
        "import altair as alt\n",
        "import seaborn as sns"
      ],
      "execution_count": 1,
      "outputs": [
        {
          "output_type": "stream",
          "text": [
            "/usr/local/lib/python3.6/dist-packages/ipykernel_launcher.py:13: FutureWarning: pandas.util.testing is deprecated. Use the functions in the public API at pandas.testing instead.\n",
            "  del sys.path[0]\n"
          ],
          "name": "stderr"
        }
      ]
    },
    {
      "cell_type": "code",
      "metadata": {
        "id": "Nxdf06FCA9H9",
        "colab_type": "code",
        "outputId": "49412ed5-481b-4ccc-de89-90ada14ec3cc",
        "colab": {
          "base_uri": "https://localhost:8080/",
          "height": 34
        }
      },
      "source": [
        "from google.colab import drive\n",
        "drive.mount('/content/drive')\n"
      ],
      "execution_count": 2,
      "outputs": [
        {
          "output_type": "stream",
          "text": [
            "Drive already mounted at /content/drive; to attempt to forcibly remount, call drive.mount(\"/content/drive\", force_remount=True).\n"
          ],
          "name": "stdout"
        }
      ]
    },
    {
      "cell_type": "code",
      "metadata": {
        "id": "omzErEggBKYc",
        "colab_type": "code",
        "outputId": "434aa2ae-6586-4259-bf2e-94cd8776d5e4",
        "colab": {
          "base_uri": "https://localhost:8080/",
          "height": 34
        }
      },
      "source": [
        "os.listdir()"
      ],
      "execution_count": 3,
      "outputs": [
        {
          "output_type": "execute_result",
          "data": {
            "text/plain": [
              "['.config', 'drive', 'sample_data']"
            ]
          },
          "metadata": {
            "tags": []
          },
          "execution_count": 3
        }
      ]
    },
    {
      "cell_type": "code",
      "metadata": {
        "id": "5o2bD6vaBP3A",
        "colab_type": "code",
        "colab": {}
      },
      "source": [
        "os.chdir('drive/My Drive/intern_trading/trading_RL_yahoo')"
      ],
      "execution_count": 0,
      "outputs": []
    },
    {
      "cell_type": "code",
      "metadata": {
        "id": "IW5xWa2vCijZ",
        "colab_type": "code",
        "colab": {
          "base_uri": "https://localhost:8080/",
          "height": 34
        },
        "outputId": "a4998ad5-9399-48a2-c3fa-f427b15a0f3d"
      },
      "source": [
        "from docopt import docopt\n",
        "from trading_bot.ops import get_state\n",
        "from trading_bot.agent import Agent\n",
        "from trading_bot.methods import evaluate_model\n",
        "from trading_bot.utils import (\n",
        "    get_stock_data,\n",
        "    format_currency,\n",
        "    format_position,\n",
        "    show_eval_result,\n",
        "    switch_k_backend_device\n",
        ")\n"
      ],
      "execution_count": 5,
      "outputs": [
        {
          "output_type": "stream",
          "text": [
            "Using TensorFlow backend.\n"
          ],
          "name": "stderr"
        }
      ]
    },
    {
      "cell_type": "code",
      "metadata": {
        "id": "g26Xa738CrFH",
        "colab_type": "code",
        "colab": {}
      },
      "source": [
        "tz = pytz.timezone('Asia/Kolkata')\n",
        "\n",
        "path1 = os.getcwd()\n",
        "path = path1 + '/chromedriver'"
      ],
      "execution_count": 0,
      "outputs": []
    },
    {
      "cell_type": "code",
      "metadata": {
        "id": "PceWkImzC1rY",
        "colab_type": "code",
        "colab": {}
      },
      "source": [
        "ignored_exceptions=(StaleElementReferenceException,)\n",
        "options = webdriver.ChromeOptions()\n",
        "options.add_argument('--no-sandbox')\n",
        "options.add_argument('--disable-dev-shm-usage')\n",
        "options.add_argument('--headless')\n",
        "options.add_experimental_option('excludeSwitches', ['enable-logging'])\n",
        "#options.add_argument(f'user-agent={userAgent}')\n",
        "#driver = webdriver.Chrome(executable_path=path , options=options)\n",
        "\n",
        "\n"
      ],
      "execution_count": 0,
      "outputs": []
    },
    {
      "cell_type": "code",
      "metadata": {
        "id": "zSzWHMdweMhW",
        "colab_type": "code",
        "colab": {}
      },
      "source": [
        " model_name = 'model_debug_50'\n",
        " test_stock = 'test_stock_rl.csv'\n",
        " total_stock='gold_stock_rl.csv'\n",
        " window_size = 10\n",
        " debug = True"
      ],
      "execution_count": 0,
      "outputs": []
    },
    {
      "cell_type": "code",
      "metadata": {
        "id": "kcXL3i78EtDE",
        "colab_type": "code",
        "outputId": "7bc7b6df-93eb-46ac-ce34-90a66b54aa52",
        "colab": {
          "base_uri": "https://localhost:8080/",
          "height": 166
        }
      },
      "source": [
        "# read csv into dataframe\n",
        "df = pd.read_csv(test_stock)\n",
        "# filter out the desired features\n",
        "df = df[['Date', 'Adj Close']]\n",
        "# rename feature column names\n",
        "df = df.rename(columns={'Adj Close': 'actual', 'Date': 'date'})\n",
        "# convert dates from object to DateTime type\n",
        "dates = df['date']\n",
        "dates = pd.to_datetime(dates, infer_datetime_format=True)\n",
        "df['date'] = dates\n",
        "\n",
        "df.head()"
      ],
      "execution_count": 9,
      "outputs": [
        {
          "output_type": "execute_result",
          "data": {
            "text/html": [
              "<div>\n",
              "<style scoped>\n",
              "    .dataframe tbody tr th:only-of-type {\n",
              "        vertical-align: middle;\n",
              "    }\n",
              "\n",
              "    .dataframe tbody tr th {\n",
              "        vertical-align: top;\n",
              "    }\n",
              "\n",
              "    .dataframe thead th {\n",
              "        text-align: right;\n",
              "    }\n",
              "</style>\n",
              "<table border=\"1\" class=\"dataframe\">\n",
              "  <thead>\n",
              "    <tr style=\"text-align: right;\">\n",
              "      <th></th>\n",
              "      <th>date</th>\n",
              "      <th>actual</th>\n",
              "    </tr>\n",
              "  </thead>\n",
              "  <tbody>\n",
              "    <tr>\n",
              "      <th>0</th>\n",
              "      <td>2020-05-18</td>\n",
              "      <td>30028.98047</td>\n",
              "    </tr>\n",
              "    <tr>\n",
              "      <th>1</th>\n",
              "      <td>2020-05-19</td>\n",
              "      <td>30196.16992</td>\n",
              "    </tr>\n",
              "    <tr>\n",
              "      <th>2</th>\n",
              "      <td>2020-05-20</td>\n",
              "      <td>30818.60938</td>\n",
              "    </tr>\n",
              "    <tr>\n",
              "      <th>3</th>\n",
              "      <td>2020-05-21</td>\n",
              "      <td>30915.83984</td>\n",
              "    </tr>\n",
              "  </tbody>\n",
              "</table>\n",
              "</div>"
            ],
            "text/plain": [
              "        date       actual\n",
              "0 2020-05-18  30028.98047\n",
              "1 2020-05-19  30196.16992\n",
              "2 2020-05-20  30818.60938\n",
              "3 2020-05-21  30915.83984"
            ]
          },
          "metadata": {
            "tags": []
          },
          "execution_count": 9
        }
      ]
    },
    {
      "cell_type": "code",
      "metadata": {
        "id": "akg1bngNmcKX",
        "colab_type": "code",
        "colab": {
          "base_uri": "https://localhost:8080/",
          "height": 195
        },
        "outputId": "08a466a4-6b90-443e-932f-e79e48a52f19"
      },
      "source": [
        "# read csv into dataframe\n",
        "df1 = pd.read_csv(total_stock)\n",
        "# filter out the desired features\n",
        "df1 = df1[['Date', 'Adj Close']]\n",
        "# rename feature column names\n",
        "df1 = df1.rename(columns={'Adj Close': 'actual', 'Date': 'date'})\n",
        "# convert dates from object to DateTime type\n",
        "dates = df1['date']\n",
        "dates = pd.to_datetime(dates, infer_datetime_format=True)\n",
        "df1['date'] = dates\n",
        "\n",
        "df1.head()\n"
      ],
      "execution_count": 10,
      "outputs": [
        {
          "output_type": "execute_result",
          "data": {
            "text/html": [
              "<div>\n",
              "<style scoped>\n",
              "    .dataframe tbody tr th:only-of-type {\n",
              "        vertical-align: middle;\n",
              "    }\n",
              "\n",
              "    .dataframe tbody tr th {\n",
              "        vertical-align: top;\n",
              "    }\n",
              "\n",
              "    .dataframe thead th {\n",
              "        text-align: right;\n",
              "    }\n",
              "</style>\n",
              "<table border=\"1\" class=\"dataframe\">\n",
              "  <thead>\n",
              "    <tr style=\"text-align: right;\">\n",
              "      <th></th>\n",
              "      <th>date</th>\n",
              "      <th>actual</th>\n",
              "    </tr>\n",
              "  </thead>\n",
              "  <tbody>\n",
              "    <tr>\n",
              "      <th>0</th>\n",
              "      <td>2020-05-17</td>\n",
              "      <td>1767.900024</td>\n",
              "    </tr>\n",
              "    <tr>\n",
              "      <th>1</th>\n",
              "      <td>2020-05-18</td>\n",
              "      <td>1736.500000</td>\n",
              "    </tr>\n",
              "    <tr>\n",
              "      <th>2</th>\n",
              "      <td>2020-05-19</td>\n",
              "      <td>1749.000000</td>\n",
              "    </tr>\n",
              "    <tr>\n",
              "      <th>3</th>\n",
              "      <td>2020-05-20</td>\n",
              "      <td>1749.699951</td>\n",
              "    </tr>\n",
              "    <tr>\n",
              "      <th>4</th>\n",
              "      <td>2020-05-21</td>\n",
              "      <td>1733.699951</td>\n",
              "    </tr>\n",
              "  </tbody>\n",
              "</table>\n",
              "</div>"
            ],
            "text/plain": [
              "        date       actual\n",
              "0 2020-05-17  1767.900024\n",
              "1 2020-05-18  1736.500000\n",
              "2 2020-05-19  1749.000000\n",
              "3 2020-05-20  1749.699951\n",
              "4 2020-05-21  1733.699951"
            ]
          },
          "metadata": {
            "tags": []
          },
          "execution_count": 10
        }
      ]
    },
    {
      "cell_type": "code",
      "metadata": {
        "id": "Ze1IWx0kC_Qp",
        "colab_type": "code",
        "colab": {}
      },
      "source": [
        "def Real(url,count):\n",
        "    if count == 0:\n",
        "        \n",
        "        driver.get(url)\n",
        "        #print(driver)\n",
        "\n",
        "    else:\n",
        "        driver.refresh()\n",
        "        time.sleep(15)\n",
        "\n",
        "    infile = driver.page_source\n",
        "    doc = lh.fromstring(infile)\n",
        "    live = doc.xpath('/html/body/div[1]/div/div/div[1]/div/div[2]/div/div/div[4]/div/div/div/div[3]/div/div/span[1]')\n",
        "    live = float(live[0].text.replace(',',''))\n",
        "    return live "
      ],
      "execution_count": 0,
      "outputs": []
    },
    {
      "cell_type": "code",
      "metadata": {
        "id": "HMorY3XADFjh",
        "colab_type": "code",
        "colab": {}
      },
      "source": [
        "def main(args):\n",
        "    count = 0\n",
        "    total_profit = 0\n",
        "    t=0\n",
        "    history = []\n",
        "    reward = 0\n",
        "    ticker = args.ticker + '.NS'\n",
        "    price = []\n",
        "    window_size =10\n",
        "    time_now = datetime.datetime.now(tz).time()\n",
        "    while(datetime.time(0,0, tzinfo=tz) < time_now < datetime.time(23,59, tzinfo=tz)):\n",
        "        test_stock = 'https://in.finance.yahoo.com/world-indices'.format(ticker,ticker)\n",
        "        print(count)\n",
        "        live = Real(test_stock,count)\n",
        "        count+=1        \n",
        "        price.append(live)\n",
        "        if count < window_size:\n",
        "           continue\n",
        "        model_name='model_debug_50'  \n",
        "        print(live)\n",
        "        initial_offset = price[1] - price[0]\n",
        "        state = get_state(price, 0, window_size + 1)\n",
        "        next_state = get_state(price, t + 1, window_size + 1)\n",
        "        agent = Agent(state_size=window_size, pretrained=True, model_name=model_name)\n",
        "        agent.inventory = []\n",
        "        \n",
        "\n",
        "        profit = evaluate_model(agent,state,next_state, price, window_size=window_size)\n",
        "        show_eval_result(model_name, profit, initial_offset)\n",
        "        t+=1\n",
        "        state = next_state"
      ],
      "execution_count": 0,
      "outputs": []
    },
    {
      "cell_type": "code",
      "metadata": {
        "id": "zPKYJoAYDHZY",
        "colab_type": "code",
        "colab": {}
      },
      "source": [
        "def evaluate_model(agent, state, next_state, data, t, total_profit, history, reward, window_size, debug=False):\n",
        "  \n",
        "    print(t)\n",
        "        # select an action\n",
        "    action = agent.act(state, is_eval=True)\n",
        "\n",
        "        # BUY\n",
        "    if action == 1:\n",
        "        agent.inventory.append(data[t])\n",
        "\n",
        "        history.append((data[t], \"BUY\"))\n",
        "        if debug:\n",
        "            logging.debug(\"Buy at: {}\".format(format_currency(data[t])))\n",
        "\n",
        "        # SELL\n",
        "    elif action == 2 and len(agent.inventory) > 0:\n",
        "        bought_price = agent.inventory.pop(0)\n",
        "        delta = data[t] - bought_price\n",
        "        reward = delta #max(delta, 0)\n",
        "        total_profit += delta\n",
        "\n",
        "        history.append((data[t], \"SELL\"))\n",
        "        if debug:\n",
        "            logging.debug(\"Sell at: {} | Position: {}\".format(\n",
        "                    format_currency(data[t]), format_position(data[t] - bought_price)))\n",
        "        # HOLD\n",
        "    else:\n",
        "        history.append((data[t], \"HOLD\"))\n",
        "\n",
        "#        done = (t == data_length - 1)\n",
        "    agent.memory.append((state, action, reward, next_state))\n",
        "\n",
        "    return total_profit\n",
        "\n",
        "\n",
        "   \n",
        "\n",
        "\n"
      ],
      "execution_count": 0,
      "outputs": []
    },
    {
      "cell_type": "code",
      "metadata": {
        "id": "l8KuJkE1Bb-F",
        "colab_type": "code",
        "colab": {
          "base_uri": "https://localhost:8080/",
          "height": 34
        },
        "outputId": "02710879-eb7e-419f-c24f-4b920135b6b2"
      },
      "source": [
        " import logging\n",
        " window_size = 10\n",
        " agent = Agent(window_size, pretrained=True, model_name=model_name)\n",
        " test_data = get_stock_data(test_stock)\n",
        " initial_offset = test_data[1] - test_data[0]\n",
        " \n",
        " test_result, history = evaluate_model(agent, test_data, window_size,debug=True)\n",
        " show_eval_result(model_name, test_result, initial_offset)"
      ],
      "execution_count": 15,
      "outputs": [
        {
          "output_type": "stream",
          "text": [
            "[[0.5 0.5 0.5 0.5 0.5 0.5 0.5 0.5 0.5 0.5]]\n"
          ],
          "name": "stdout"
        }
      ]
    },
    {
      "cell_type": "code",
      "metadata": {
        "id": "6fyu-7t7ONDS",
        "colab_type": "code",
        "colab": {}
      },
      "source": [
        "def interpretation(df, history, title=\"stock daily session\"):\n",
        "    # add history to dataframe\n",
        "    position = [history[0][0]] + [x[0] for x in history]\n",
        "    actions = ['HOLD'] + [x[1] for x in history]\n",
        "    df['position'] = position\n",
        "    df['action'] = actions\n",
        "    \n",
        "    # specify y-axis scale for stock prices\n",
        "    scale = alt.Scale(domain=(min(min(df['actual']), min(df['position'])) - 150, max(max(df['actual']), max(df['position'])) + 150), clamp=True)\n",
        "    \n",
        "    # plot a line chart for stock positions\n",
        "    actual = alt.Chart(df).mark_line(\n",
        "        color='green',\n",
        "        opacity=0.5\n",
        "    ).encode(\n",
        "        x='date:T',\n",
        "        y=alt.Y('position', axis=alt.Axis(format='$.2f', title='Price'), scale=scale)\n",
        "    ).interactive(\n",
        "        bind_y=False\n",
        "    )\n",
        "    \n",
        "    # plot the BUY and SELL actions as points\n",
        "    points = alt.Chart(df).transform_filter(\n",
        "        alt.datum.action != 'HOLD'\n",
        "    ).mark_point(\n",
        "        filled=True\n",
        "    ).encode(\n",
        "        x=alt.X('date:T', axis=alt.Axis(title='Date')),\n",
        "        y=alt.Y('position', axis=alt.Axis(format='$.2f', title='Price'), scale=scale),\n",
        "        color='action'\n",
        "    ).interactive(bind_y=False)\n",
        "\n",
        "    # merge the two charts\n",
        "    graph = alt.layer(actual, points, title=title).properties(height=300, width=1000)\n",
        "    \n",
        "    return graph"
      ],
      "execution_count": 0,
      "outputs": []
    },
    {
      "cell_type": "code",
      "metadata": {
        "id": "-KBKSHnHOQox",
        "colab_type": "code",
        "outputId": "c0cc11d3-1405-412e-a6b7-4981c01af671",
        "colab": {
          "base_uri": "https://localhost:8080/",
          "height": 380
        }
      },
      "source": [
        "graph = interpretation(df, history, title=test_stock)\n",
        "graph"
      ],
      "execution_count": 17,
      "outputs": [
        {
          "output_type": "execute_result",
          "data": {
            "text/plain": [
              "alt.LayerChart(...)"
            ],
            "text/html": [
              "\n",
              "<div id=\"altair-viz-3b13a365f87e45129aa76032d1af9fe4\"></div>\n",
              "<script type=\"text/javascript\">\n",
              "  (function(spec, embedOpt){\n",
              "    let outputDiv = document.currentScript.previousElementSibling;\n",
              "    if (outputDiv.id !== \"altair-viz-3b13a365f87e45129aa76032d1af9fe4\") {\n",
              "      outputDiv = document.getElementById(\"altair-viz-3b13a365f87e45129aa76032d1af9fe4\");\n",
              "    }\n",
              "    const paths = {\n",
              "      \"vega\": \"https://cdn.jsdelivr.net/npm//vega@5?noext\",\n",
              "      \"vega-lib\": \"https://cdn.jsdelivr.net/npm//vega-lib?noext\",\n",
              "      \"vega-lite\": \"https://cdn.jsdelivr.net/npm//vega-lite@4.8.1?noext\",\n",
              "      \"vega-embed\": \"https://cdn.jsdelivr.net/npm//vega-embed@6?noext\",\n",
              "    };\n",
              "\n",
              "    function loadScript(lib) {\n",
              "      return new Promise(function(resolve, reject) {\n",
              "        var s = document.createElement('script');\n",
              "        s.src = paths[lib];\n",
              "        s.async = true;\n",
              "        s.onload = () => resolve(paths[lib]);\n",
              "        s.onerror = () => reject(`Error loading script: ${paths[lib]}`);\n",
              "        document.getElementsByTagName(\"head\")[0].appendChild(s);\n",
              "      });\n",
              "    }\n",
              "\n",
              "    function showError(err) {\n",
              "      outputDiv.innerHTML = `<div class=\"error\" style=\"color:red;\">${err}</div>`;\n",
              "      throw err;\n",
              "    }\n",
              "\n",
              "    function displayChart(vegaEmbed) {\n",
              "      vegaEmbed(outputDiv, spec, embedOpt)\n",
              "        .catch(err => showError(`Javascript Error: ${err.message}<br>This usually means there's a typo in your chart specification. See the javascript console for the full traceback.`));\n",
              "    }\n",
              "\n",
              "    if(typeof define === \"function\" && define.amd) {\n",
              "      requirejs.config({paths});\n",
              "      require([\"vega-embed\"], displayChart, err => showError(`Error loading script: ${err.message}`));\n",
              "    } else if (typeof vegaEmbed === \"function\") {\n",
              "      displayChart(vegaEmbed);\n",
              "    } else {\n",
              "      loadScript(\"vega\")\n",
              "        .then(() => loadScript(\"vega-lite\"))\n",
              "        .then(() => loadScript(\"vega-embed\"))\n",
              "        .catch(showError)\n",
              "        .then(() => displayChart(vegaEmbed));\n",
              "    }\n",
              "  })({\"config\": {\"view\": {\"continuousWidth\": 400, \"continuousHeight\": 300}}, \"layer\": [{\"mark\": {\"type\": \"line\", \"color\": \"green\", \"opacity\": 0.5}, \"encoding\": {\"x\": {\"type\": \"temporal\", \"field\": \"date\"}, \"y\": {\"type\": \"quantitative\", \"axis\": {\"format\": \"$.2f\", \"title\": \"Price\"}, \"field\": \"position\", \"scale\": {\"clamp\": true, \"domain\": [29878.98047, 31065.839839999997]}}}, \"selection\": {\"selector001\": {\"type\": \"interval\", \"bind\": \"scales\", \"encodings\": [\"x\"]}}}, {\"mark\": {\"type\": \"point\", \"filled\": true}, \"encoding\": {\"color\": {\"type\": \"nominal\", \"field\": \"action\"}, \"x\": {\"type\": \"temporal\", \"axis\": {\"title\": \"Date\"}, \"field\": \"date\"}, \"y\": {\"type\": \"quantitative\", \"axis\": {\"format\": \"$.2f\", \"title\": \"Price\"}, \"field\": \"position\", \"scale\": {\"clamp\": true, \"domain\": [29878.98047, 31065.839839999997]}}}, \"selection\": {\"selector002\": {\"type\": \"interval\", \"bind\": \"scales\", \"encodings\": [\"x\"]}}, \"transform\": [{\"filter\": \"(datum.action !== 'HOLD')\"}]}], \"data\": {\"name\": \"data-b8d76566c497eec013f245d9ae2ad077\"}, \"height\": 300, \"title\": \"test_stock_rl.csv\", \"width\": 1000, \"$schema\": \"https://vega.github.io/schema/vega-lite/v4.8.1.json\", \"datasets\": {\"data-b8d76566c497eec013f245d9ae2ad077\": [{\"date\": \"2020-05-18T00:00:00\", \"actual\": 30028.98047, \"position\": 30028.98047, \"action\": \"HOLD\"}, {\"date\": \"2020-05-19T00:00:00\", \"actual\": 30196.16992, \"position\": 30028.98047, \"action\": \"BUY\"}, {\"date\": \"2020-05-20T00:00:00\", \"actual\": 30818.60938, \"position\": 30196.16992, \"action\": \"SELL\"}, {\"date\": \"2020-05-21T00:00:00\", \"actual\": 30915.839839999997, \"position\": 30818.60938, \"action\": \"HOLD\"}]}}, {\"mode\": \"vega-lite\"});\n",
              "</script>"
            ]
          },
          "metadata": {
            "tags": []
          },
          "execution_count": 17
        }
      ]
    },
    {
      "cell_type": "code",
      "metadata": {
        "id": "S5MeyM3Yiliw",
        "colab_type": "code",
        "colab": {
          "base_uri": "https://localhost:8080/",
          "height": 118
        },
        "outputId": "441e2064-1134-44a8-b91a-5ac388cb3454"
      },
      "source": [
        " coloredlogs.install(level='DEBUG')\n",
        " switch_k_backend_device()\n",
        " test_data = get_stock_data(total_stock)\n",
        " initial_offset = test_data[1] - test_data[0]\n",
        "\n",
        " test_result, history = evaluate_model(agent, test_data, window_size, debug)\n",
        " show_eval_result(model_name, test_result, initial_offset)"
      ],
      "execution_count": 18,
      "outputs": [
        {
          "output_type": "stream",
          "text": [
            "2020-05-21 10:31:58 6e5af76c70c3 root[2033] DEBUG switching to TensorFlow for CPU\n"
          ],
          "name": "stderr"
        },
        {
          "output_type": "stream",
          "text": [
            "[[0.5 0.5 0.5 0.5 0.5 0.5 0.5 0.5 0.5 0.5]]\n"
          ],
          "name": "stdout"
        },
        {
          "output_type": "stream",
          "text": [
            "2020-05-21 10:32:08 6e5af76c70c3 root[2033] DEBUG Buy at: $1736.50\n",
            "2020-05-21 10:32:08 6e5af76c70c3 root[2033] DEBUG Sell at: $1749.00 | Position: +$12.50\n",
            "2020-05-21 10:32:08 6e5af76c70c3 root[2033] INFO model_debug_50: +$12.50\n",
            "\n"
          ],
          "name": "stderr"
        }
      ]
    },
    {
      "cell_type": "code",
      "metadata": {
        "id": "lPG53QvNYMWU",
        "colab_type": "code",
        "colab": {
          "base_uri": "https://localhost:8080/",
          "height": 385
        },
        "outputId": "c019ff75-0935-4404-f37f-db06cc4c7ecb"
      },
      "source": [
        "graph = interpretation(df1, history, title=total_stock)\n",
        "graph"
      ],
      "execution_count": 19,
      "outputs": [
        {
          "output_type": "execute_result",
          "data": {
            "text/plain": [
              "alt.LayerChart(...)"
            ],
            "text/html": [
              "\n",
              "<div id=\"altair-viz-031a178bf8594b8ebdb1582a4061f045\"></div>\n",
              "<script type=\"text/javascript\">\n",
              "  (function(spec, embedOpt){\n",
              "    let outputDiv = document.currentScript.previousElementSibling;\n",
              "    if (outputDiv.id !== \"altair-viz-031a178bf8594b8ebdb1582a4061f045\") {\n",
              "      outputDiv = document.getElementById(\"altair-viz-031a178bf8594b8ebdb1582a4061f045\");\n",
              "    }\n",
              "    const paths = {\n",
              "      \"vega\": \"https://cdn.jsdelivr.net/npm//vega@5?noext\",\n",
              "      \"vega-lib\": \"https://cdn.jsdelivr.net/npm//vega-lib?noext\",\n",
              "      \"vega-lite\": \"https://cdn.jsdelivr.net/npm//vega-lite@4.8.1?noext\",\n",
              "      \"vega-embed\": \"https://cdn.jsdelivr.net/npm//vega-embed@6?noext\",\n",
              "    };\n",
              "\n",
              "    function loadScript(lib) {\n",
              "      return new Promise(function(resolve, reject) {\n",
              "        var s = document.createElement('script');\n",
              "        s.src = paths[lib];\n",
              "        s.async = true;\n",
              "        s.onload = () => resolve(paths[lib]);\n",
              "        s.onerror = () => reject(`Error loading script: ${paths[lib]}`);\n",
              "        document.getElementsByTagName(\"head\")[0].appendChild(s);\n",
              "      });\n",
              "    }\n",
              "\n",
              "    function showError(err) {\n",
              "      outputDiv.innerHTML = `<div class=\"error\" style=\"color:red;\">${err}</div>`;\n",
              "      throw err;\n",
              "    }\n",
              "\n",
              "    function displayChart(vegaEmbed) {\n",
              "      vegaEmbed(outputDiv, spec, embedOpt)\n",
              "        .catch(err => showError(`Javascript Error: ${err.message}<br>This usually means there's a typo in your chart specification. See the javascript console for the full traceback.`));\n",
              "    }\n",
              "\n",
              "    if(typeof define === \"function\" && define.amd) {\n",
              "      requirejs.config({paths});\n",
              "      require([\"vega-embed\"], displayChart, err => showError(`Error loading script: ${err.message}`));\n",
              "    } else if (typeof vegaEmbed === \"function\") {\n",
              "      displayChart(vegaEmbed);\n",
              "    } else {\n",
              "      loadScript(\"vega\")\n",
              "        .then(() => loadScript(\"vega-lite\"))\n",
              "        .then(() => loadScript(\"vega-embed\"))\n",
              "        .catch(showError)\n",
              "        .then(() => displayChart(vegaEmbed));\n",
              "    }\n",
              "  })({\"config\": {\"view\": {\"continuousWidth\": 400, \"continuousHeight\": 300}}, \"layer\": [{\"mark\": {\"type\": \"line\", \"color\": \"green\", \"opacity\": 0.5}, \"encoding\": {\"x\": {\"type\": \"temporal\", \"field\": \"date\"}, \"y\": {\"type\": \"quantitative\", \"axis\": {\"format\": \"$.2f\", \"title\": \"Price\"}, \"field\": \"position\", \"scale\": {\"clamp\": true, \"domain\": [1583.699951, 1917.9000239999998]}}}, \"selection\": {\"selector003\": {\"type\": \"interval\", \"bind\": \"scales\", \"encodings\": [\"x\"]}}}, {\"mark\": {\"type\": \"point\", \"filled\": true}, \"encoding\": {\"color\": {\"type\": \"nominal\", \"field\": \"action\"}, \"x\": {\"type\": \"temporal\", \"axis\": {\"title\": \"Date\"}, \"field\": \"date\"}, \"y\": {\"type\": \"quantitative\", \"axis\": {\"format\": \"$.2f\", \"title\": \"Price\"}, \"field\": \"position\", \"scale\": {\"clamp\": true, \"domain\": [1583.699951, 1917.9000239999998]}}}, \"selection\": {\"selector004\": {\"type\": \"interval\", \"bind\": \"scales\", \"encodings\": [\"x\"]}}, \"transform\": [{\"filter\": \"(datum.action !== 'HOLD')\"}]}], \"data\": {\"name\": \"data-7b21cc01c04d3a8e6985f1d4be5ba08c\"}, \"height\": 300, \"title\": \"gold_stock_rl.csv\", \"width\": 1000, \"$schema\": \"https://vega.github.io/schema/vega-lite/v4.8.1.json\", \"datasets\": {\"data-7b21cc01c04d3a8e6985f1d4be5ba08c\": [{\"date\": \"2020-05-17T00:00:00\", \"actual\": 1767.9000239999998, \"position\": 1767.9000239999998, \"action\": \"HOLD\"}, {\"date\": \"2020-05-18T00:00:00\", \"actual\": 1736.5, \"position\": 1767.9000239999998, \"action\": \"HOLD\"}, {\"date\": \"2020-05-19T00:00:00\", \"actual\": 1749.0, \"position\": 1736.5, \"action\": \"BUY\"}, {\"date\": \"2020-05-20T00:00:00\", \"actual\": 1749.699951, \"position\": 1749.0, \"action\": \"SELL\"}, {\"date\": \"2020-05-21T00:00:00\", \"actual\": 1733.699951, \"position\": 1749.699951, \"action\": \"HOLD\"}]}}, {\"mode\": \"vega-lite\"});\n",
              "</script>"
            ]
          },
          "metadata": {
            "tags": []
          },
          "execution_count": 19
        }
      ]
    },
    {
      "cell_type": "code",
      "metadata": {
        "id": "9udpSTrGomFV",
        "colab_type": "code",
        "colab": {}
      },
      "source": [
        ""
      ],
      "execution_count": 0,
      "outputs": []
    }
  ]
}