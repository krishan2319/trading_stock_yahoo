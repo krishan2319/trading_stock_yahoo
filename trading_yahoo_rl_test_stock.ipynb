{
  "nbformat": 4,
  "nbformat_minor": 0,
  "metadata": {
    "colab": {
      "name": "trading_yahoo_rl_test_stock.ipynb",
      "provenance": [],
      "collapsed_sections": [],
      "authorship_tag": "ABX9TyPYi7LwAhLlR+UcifM0942y",
      "include_colab_link": true
    },
    "kernelspec": {
      "name": "python3",
      "display_name": "Python 3"
    }
  },
  "cells": [
    {
      "cell_type": "markdown",
      "metadata": {
        "id": "view-in-github",
        "colab_type": "text"
      },
      "source": [
        "<a href=\"https://colab.research.google.com/github/krishan2319/trading_stock_yahoo/blob/master/trading_yahoo_rl_test_stock.ipynb\" target=\"_parent\"><img src=\"https://colab.research.google.com/assets/colab-badge.svg\" alt=\"Open In Colab\"/></a>"
      ]
    },
    {
      "cell_type": "markdown",
      "metadata": {
        "id": "a3WMkWJS43X6",
        "colab_type": "text"
      },
      "source": [
        "Importing the library"
      ]
    },
    {
      "cell_type": "code",
      "metadata": {
        "id": "pfqKCyYoAbxa",
        "colab_type": "code",
        "outputId": "50ed300d-b893-442b-b371-0862d596add2",
        "colab": {
          "base_uri": "https://localhost:8080/",
          "height": 50
        }
      },
      "source": [
        "import lxml.html as lh\n",
        "import time\n",
        "import urllib.request\n",
        "import argparse\n",
        "import datetime\n",
        "import pytz\n",
        "from selenium import webdriver\n",
        "from selenium.common.exceptions import StaleElementReferenceException\n",
        "import os\n",
        "import coloredlogs\n",
        "import pandas as pd\n",
        "import numpy as np\n",
        "import pandas.util.testing as tm\n",
        "import altair as alt\n",
        "import seaborn as sns"
      ],
      "execution_count": 1,
      "outputs": [
        {
          "output_type": "stream",
          "text": [
            "/usr/local/lib/python3.6/dist-packages/ipykernel_launcher.py:13: FutureWarning: pandas.util.testing is deprecated. Use the functions in the public API at pandas.testing instead.\n",
            "  del sys.path[0]\n"
          ],
          "name": "stderr"
        }
      ]
    },
    {
      "cell_type": "markdown",
      "metadata": {
        "id": "OQF_Wn7P5F0o",
        "colab_type": "text"
      },
      "source": [
        "Defining path"
      ]
    },
    {
      "cell_type": "code",
      "metadata": {
        "id": "Nxdf06FCA9H9",
        "colab_type": "code",
        "outputId": "3d3163c7-34ee-4262-e1ff-ca9aa1ebf3ad",
        "colab": {
          "base_uri": "https://localhost:8080/",
          "height": 34
        }
      },
      "source": [
        "from google.colab import drive\n",
        "drive.mount('/content/drive')\n"
      ],
      "execution_count": 2,
      "outputs": [
        {
          "output_type": "stream",
          "text": [
            "Drive already mounted at /content/drive; to attempt to forcibly remount, call drive.mount(\"/content/drive\", force_remount=True).\n"
          ],
          "name": "stdout"
        }
      ]
    },
    {
      "cell_type": "code",
      "metadata": {
        "id": "omzErEggBKYc",
        "colab_type": "code",
        "outputId": "46956cac-4f45-4381-a7ab-0d1467a077aa",
        "colab": {
          "base_uri": "https://localhost:8080/",
          "height": 34
        }
      },
      "source": [
        "os.listdir()"
      ],
      "execution_count": 3,
      "outputs": [
        {
          "output_type": "execute_result",
          "data": {
            "text/plain": [
              "['.config', 'drive', 'sample_data']"
            ]
          },
          "metadata": {
            "tags": []
          },
          "execution_count": 3
        }
      ]
    },
    {
      "cell_type": "code",
      "metadata": {
        "id": "5o2bD6vaBP3A",
        "colab_type": "code",
        "colab": {}
      },
      "source": [
        "os.chdir('drive/My Drive/intern_trading/trading_RL_yahoo')"
      ],
      "execution_count": 0,
      "outputs": []
    },
    {
      "cell_type": "markdown",
      "metadata": {
        "id": "pw-vLlSG5MYc",
        "colab_type": "text"
      },
      "source": [
        "Importing trading_bot\n"
      ]
    },
    {
      "cell_type": "code",
      "metadata": {
        "id": "IW5xWa2vCijZ",
        "colab_type": "code",
        "outputId": "6782e1e7-9a36-4337-b88b-81bb337d4570",
        "colab": {
          "base_uri": "https://localhost:8080/",
          "height": 34
        }
      },
      "source": [
        "from docopt import docopt\n",
        "from trading_bot.ops import get_state\n",
        "from trading_bot.agent import Agent\n",
        "from trading_bot.methods import evaluate_model\n",
        "from trading_bot.utils import (\n",
        "    get_stock_data,\n",
        "    format_currency,\n",
        "    format_position,\n",
        "    show_eval_result,\n",
        "    switch_k_backend_device\n",
        ")\n"
      ],
      "execution_count": 5,
      "outputs": [
        {
          "output_type": "stream",
          "text": [
            "Using TensorFlow backend.\n"
          ],
          "name": "stderr"
        }
      ]
    },
    {
      "cell_type": "markdown",
      "metadata": {
        "id": "w2jPfapU5Vx5",
        "colab_type": "text"
      },
      "source": [
        "Define time zone and path\n"
      ]
    },
    {
      "cell_type": "code",
      "metadata": {
        "id": "g26Xa738CrFH",
        "colab_type": "code",
        "colab": {}
      },
      "source": [
        "tz = pytz.timezone('Asia/Kolkata')\n",
        "\n",
        "path1 = os.getcwd()\n",
        "path = path1 + '/chromedriver'"
      ],
      "execution_count": 0,
      "outputs": []
    },
    {
      "cell_type": "code",
      "metadata": {
        "id": "PceWkImzC1rY",
        "colab_type": "code",
        "colab": {}
      },
      "source": [
        "ignored_exceptions=(StaleElementReferenceException,)\n",
        "options = webdriver.ChromeOptions()\n",
        "options.add_argument('--no-sandbox')\n",
        "options.add_argument('--disable-dev-shm-usage')\n",
        "options.add_argument('--headless')\n",
        "options.add_experimental_option('excludeSwitches', ['enable-logging'])\n",
        "#options.add_argument(f'user-agent={userAgent}')\n",
        "#driver = webdriver.Chrome(executable_path=path , options=options)\n",
        "\n",
        "\n"
      ],
      "execution_count": 0,
      "outputs": []
    },
    {
      "cell_type": "markdown",
      "metadata": {
        "id": "c1oXit-65ftQ",
        "colab_type": "text"
      },
      "source": [
        "Define model name and some parmeters"
      ]
    },
    {
      "cell_type": "code",
      "metadata": {
        "id": "zSzWHMdweMhW",
        "colab_type": "code",
        "colab": {}
      },
      "source": [
        " model_name = 'model_debug_50'\n",
        " test_stock = 'test_stock_rl.csv'\n",
        " total_stock='gold_stock_rl.csv'\n",
        " daily_stock='SBIN_stock_rl.csv'\n",
        " daily1_stock='bankborada_stock_rl.csv'\n",
        " window_size = 10\n",
        " debug = True"
      ],
      "execution_count": 0,
      "outputs": []
    },
    {
      "cell_type": "code",
      "metadata": {
        "id": "kcXL3i78EtDE",
        "colab_type": "code",
        "outputId": "5ac8e55a-a933-46ef-9d99-e4cc5e7fe27f",
        "colab": {
          "base_uri": "https://localhost:8080/",
          "height": 166
        }
      },
      "source": [
        "# read csv into dataframe\n",
        "df = pd.read_csv(test_stock)\n",
        "# filter out the desired features\n",
        "df = df[['Date', 'Adj Close']]\n",
        "# rename feature column names\n",
        "df = df.rename(columns={'Adj Close': 'actual', 'Date': 'date'})\n",
        "# convert dates from object to DateTime type\n",
        "dates = df['date']\n",
        "dates = pd.to_datetime(dates, infer_datetime_format=True)\n",
        "df['date'] = dates\n",
        "\n",
        "df.head()"
      ],
      "execution_count": 9,
      "outputs": [
        {
          "output_type": "execute_result",
          "data": {
            "text/html": [
              "<div>\n",
              "<style scoped>\n",
              "    .dataframe tbody tr th:only-of-type {\n",
              "        vertical-align: middle;\n",
              "    }\n",
              "\n",
              "    .dataframe tbody tr th {\n",
              "        vertical-align: top;\n",
              "    }\n",
              "\n",
              "    .dataframe thead th {\n",
              "        text-align: right;\n",
              "    }\n",
              "</style>\n",
              "<table border=\"1\" class=\"dataframe\">\n",
              "  <thead>\n",
              "    <tr style=\"text-align: right;\">\n",
              "      <th></th>\n",
              "      <th>date</th>\n",
              "      <th>actual</th>\n",
              "    </tr>\n",
              "  </thead>\n",
              "  <tbody>\n",
              "    <tr>\n",
              "      <th>0</th>\n",
              "      <td>2020-05-18</td>\n",
              "      <td>30028.98047</td>\n",
              "    </tr>\n",
              "    <tr>\n",
              "      <th>1</th>\n",
              "      <td>2020-05-19</td>\n",
              "      <td>30196.16992</td>\n",
              "    </tr>\n",
              "    <tr>\n",
              "      <th>2</th>\n",
              "      <td>2020-05-20</td>\n",
              "      <td>30818.60938</td>\n",
              "    </tr>\n",
              "    <tr>\n",
              "      <th>3</th>\n",
              "      <td>2020-05-21</td>\n",
              "      <td>30915.83984</td>\n",
              "    </tr>\n",
              "  </tbody>\n",
              "</table>\n",
              "</div>"
            ],
            "text/plain": [
              "        date       actual\n",
              "0 2020-05-18  30028.98047\n",
              "1 2020-05-19  30196.16992\n",
              "2 2020-05-20  30818.60938\n",
              "3 2020-05-21  30915.83984"
            ]
          },
          "metadata": {
            "tags": []
          },
          "execution_count": 9
        }
      ]
    },
    {
      "cell_type": "code",
      "metadata": {
        "id": "akg1bngNmcKX",
        "colab_type": "code",
        "outputId": "7e2eca87-ea85-4134-97f6-d24ab8d4812a",
        "colab": {
          "base_uri": "https://localhost:8080/",
          "height": 195
        }
      },
      "source": [
        "# read csv into dataframe\n",
        "df1 = pd.read_csv(total_stock)\n",
        "# filter out the desired features\n",
        "df1 = df1[['Date', 'Adj Close']]\n",
        "# rename feature column names\n",
        "df1 = df1.rename(columns={'Adj Close': 'actual', 'Date': 'date'})\n",
        "# convert dates from object to DateTime type\n",
        "dates = df1['date']\n",
        "dates = pd.to_datetime(dates, infer_datetime_format=True)\n",
        "df1['date'] = dates\n",
        "\n",
        "df1.head()\n"
      ],
      "execution_count": 10,
      "outputs": [
        {
          "output_type": "execute_result",
          "data": {
            "text/html": [
              "<div>\n",
              "<style scoped>\n",
              "    .dataframe tbody tr th:only-of-type {\n",
              "        vertical-align: middle;\n",
              "    }\n",
              "\n",
              "    .dataframe tbody tr th {\n",
              "        vertical-align: top;\n",
              "    }\n",
              "\n",
              "    .dataframe thead th {\n",
              "        text-align: right;\n",
              "    }\n",
              "</style>\n",
              "<table border=\"1\" class=\"dataframe\">\n",
              "  <thead>\n",
              "    <tr style=\"text-align: right;\">\n",
              "      <th></th>\n",
              "      <th>date</th>\n",
              "      <th>actual</th>\n",
              "    </tr>\n",
              "  </thead>\n",
              "  <tbody>\n",
              "    <tr>\n",
              "      <th>0</th>\n",
              "      <td>2020-05-17</td>\n",
              "      <td>1767.900024</td>\n",
              "    </tr>\n",
              "    <tr>\n",
              "      <th>1</th>\n",
              "      <td>2020-05-18</td>\n",
              "      <td>1736.500000</td>\n",
              "    </tr>\n",
              "    <tr>\n",
              "      <th>2</th>\n",
              "      <td>2020-05-19</td>\n",
              "      <td>1749.000000</td>\n",
              "    </tr>\n",
              "    <tr>\n",
              "      <th>3</th>\n",
              "      <td>2020-05-20</td>\n",
              "      <td>1749.699951</td>\n",
              "    </tr>\n",
              "    <tr>\n",
              "      <th>4</th>\n",
              "      <td>2020-05-21</td>\n",
              "      <td>1733.699951</td>\n",
              "    </tr>\n",
              "  </tbody>\n",
              "</table>\n",
              "</div>"
            ],
            "text/plain": [
              "        date       actual\n",
              "0 2020-05-17  1767.900024\n",
              "1 2020-05-18  1736.500000\n",
              "2 2020-05-19  1749.000000\n",
              "3 2020-05-20  1749.699951\n",
              "4 2020-05-21  1733.699951"
            ]
          },
          "metadata": {
            "tags": []
          },
          "execution_count": 10
        }
      ]
    },
    {
      "cell_type": "code",
      "metadata": {
        "id": "9AmfIBRrm4qB",
        "colab_type": "code",
        "colab": {
          "base_uri": "https://localhost:8080/",
          "height": 166
        },
        "outputId": "b36ed2a4-8a19-4d81-e174-5291dbe59673"
      },
      "source": [
        "# read csv into dataframe\n",
        "df2 = pd.read_csv(daily_stock)\n",
        "# filter out the desired features\n",
        "df2 = df2[['Date', 'Adj Close']]\n",
        "# rename feature column names\n",
        "df2 = df2.rename(columns={'Adj Close': 'actual', 'Date': 'date'})\n",
        "# convert dates from object to DateTime type\n",
        "dates = df2['date']\n",
        "dates = pd.to_datetime(dates, infer_datetime_format=True)\n",
        "df2['date'] = dates\n",
        "\n",
        "df2.head()"
      ],
      "execution_count": 11,
      "outputs": [
        {
          "output_type": "execute_result",
          "data": {
            "text/html": [
              "<div>\n",
              "<style scoped>\n",
              "    .dataframe tbody tr th:only-of-type {\n",
              "        vertical-align: middle;\n",
              "    }\n",
              "\n",
              "    .dataframe tbody tr th {\n",
              "        vertical-align: top;\n",
              "    }\n",
              "\n",
              "    .dataframe thead th {\n",
              "        text-align: right;\n",
              "    }\n",
              "</style>\n",
              "<table border=\"1\" class=\"dataframe\">\n",
              "  <thead>\n",
              "    <tr style=\"text-align: right;\">\n",
              "      <th></th>\n",
              "      <th>date</th>\n",
              "      <th>actual</th>\n",
              "    </tr>\n",
              "  </thead>\n",
              "  <tbody>\n",
              "    <tr>\n",
              "      <th>0</th>\n",
              "      <td>2020-05-18</td>\n",
              "      <td>155.300003</td>\n",
              "    </tr>\n",
              "    <tr>\n",
              "      <th>1</th>\n",
              "      <td>2020-05-19</td>\n",
              "      <td>152.800003</td>\n",
              "    </tr>\n",
              "    <tr>\n",
              "      <th>2</th>\n",
              "      <td>2020-05-20</td>\n",
              "      <td>153.399994</td>\n",
              "    </tr>\n",
              "    <tr>\n",
              "      <th>3</th>\n",
              "      <td>2020-05-21</td>\n",
              "      <td>151.949997</td>\n",
              "    </tr>\n",
              "  </tbody>\n",
              "</table>\n",
              "</div>"
            ],
            "text/plain": [
              "        date      actual\n",
              "0 2020-05-18  155.300003\n",
              "1 2020-05-19  152.800003\n",
              "2 2020-05-20  153.399994\n",
              "3 2020-05-21  151.949997"
            ]
          },
          "metadata": {
            "tags": []
          },
          "execution_count": 11
        }
      ]
    },
    {
      "cell_type": "code",
      "metadata": {
        "id": "GRhBTZwUnZSz",
        "colab_type": "code",
        "colab": {
          "base_uri": "https://localhost:8080/",
          "height": 166
        },
        "outputId": "dc751b45-6d5c-494f-8314-7d27b8b86989"
      },
      "source": [
        "# read csv into dataframe\n",
        "df3 = pd.read_csv(daily1_stock)\n",
        "# filter out the desired features\n",
        "df3 = df3[['Date', 'Adj Close']]\n",
        "# rename feature column names\n",
        "df3 = df3.rename(columns={'Adj Close': 'actual', 'Date': 'date'})\n",
        "# convert dates from object to DateTime type\n",
        "dates = df3['date']\n",
        "dates = pd.to_datetime(dates, infer_datetime_format=True)\n",
        "df3['date'] = dates\n",
        "\n",
        "df3.head()"
      ],
      "execution_count": 12,
      "outputs": [
        {
          "output_type": "execute_result",
          "data": {
            "text/html": [
              "<div>\n",
              "<style scoped>\n",
              "    .dataframe tbody tr th:only-of-type {\n",
              "        vertical-align: middle;\n",
              "    }\n",
              "\n",
              "    .dataframe tbody tr th {\n",
              "        vertical-align: top;\n",
              "    }\n",
              "\n",
              "    .dataframe thead th {\n",
              "        text-align: right;\n",
              "    }\n",
              "</style>\n",
              "<table border=\"1\" class=\"dataframe\">\n",
              "  <thead>\n",
              "    <tr style=\"text-align: right;\">\n",
              "      <th></th>\n",
              "      <th>date</th>\n",
              "      <th>actual</th>\n",
              "    </tr>\n",
              "  </thead>\n",
              "  <tbody>\n",
              "    <tr>\n",
              "      <th>0</th>\n",
              "      <td>2020-05-18</td>\n",
              "      <td>38.599998</td>\n",
              "    </tr>\n",
              "    <tr>\n",
              "      <th>1</th>\n",
              "      <td>2020-05-19</td>\n",
              "      <td>36.500000</td>\n",
              "    </tr>\n",
              "    <tr>\n",
              "      <th>2</th>\n",
              "      <td>2020-05-20</td>\n",
              "      <td>36.650002</td>\n",
              "    </tr>\n",
              "    <tr>\n",
              "      <th>3</th>\n",
              "      <td>2020-05-21</td>\n",
              "      <td>37.549999</td>\n",
              "    </tr>\n",
              "  </tbody>\n",
              "</table>\n",
              "</div>"
            ],
            "text/plain": [
              "        date     actual\n",
              "0 2020-05-18  38.599998\n",
              "1 2020-05-19  36.500000\n",
              "2 2020-05-20  36.650002\n",
              "3 2020-05-21  37.549999"
            ]
          },
          "metadata": {
            "tags": []
          },
          "execution_count": 12
        }
      ]
    },
    {
      "cell_type": "markdown",
      "metadata": {
        "id": "uCqZjdcr5tr5",
        "colab_type": "text"
      },
      "source": [
        "Define function to fetch the data of stock from  given url"
      ]
    },
    {
      "cell_type": "code",
      "metadata": {
        "id": "Ze1IWx0kC_Qp",
        "colab_type": "code",
        "colab": {}
      },
      "source": [
        "def Real(url,count):\n",
        "    if count == 0:\n",
        "        \n",
        "        driver.get(url)\n",
        "        #print(driver)\n",
        "\n",
        "    else:\n",
        "        driver.refresh()\n",
        "        time.sleep(15)\n",
        "\n",
        "    infile = driver.page_source\n",
        "    doc = lh.fromstring(infile)\n",
        "    live = doc.xpath('/html/body/div[1]/div/div/div[1]/div/div[2]/div/div/div[4]/div/div/div/div[3]/div/div/span[1]')\n",
        "    live = float(live[0].text.replace(',',''))\n",
        "    return live "
      ],
      "execution_count": 0,
      "outputs": []
    },
    {
      "cell_type": "code",
      "metadata": {
        "id": "HMorY3XADFjh",
        "colab_type": "code",
        "colab": {}
      },
      "source": [
        "def main(args):\n",
        "    count = 0\n",
        "    total_profit = 0\n",
        "    t=0\n",
        "    history = []\n",
        "    reward = 0\n",
        "    ticker = args.ticker + '.NS'\n",
        "    price = []\n",
        "    window_size =10\n",
        "    time_now = datetime.datetime.now(tz).time()\n",
        "    while(datetime.time(0,0, tzinfo=tz) < time_now < datetime.time(23,59, tzinfo=tz)):\n",
        "        test_stock = 'https://finance.yahoo.com/quote/{}?p={}&.tsrc=fin-srch'.format(ticker,ticker)\n",
        "        print(count)\n",
        "        live = Real(test_stock,count)\n",
        "        count+=1        \n",
        "        price.append(live)\n",
        "        if count < window_size:\n",
        "           continue\n",
        "        model_name='model_debug_50'  \n",
        "        print(live)\n",
        "        initial_offset = price[1] - price[0]\n",
        "        state = get_state(price, 0, window_size + 1)\n",
        "        next_state = get_state(price, t + 1, window_size + 1)\n",
        "        agent = Agent(state_size=window_size, pretrained=True, model_name=model_name)\n",
        "        agent.inventory = []\n",
        "        \n",
        "\n",
        "        profit = evaluate_model(agent,state,next_state, price, window_size=window_size)\n",
        "        show_eval_result(model_name, profit, initial_offset)\n",
        "        t+=1\n",
        "        state = next_state"
      ],
      "execution_count": 0,
      "outputs": []
    },
    {
      "cell_type": "markdown",
      "metadata": {
        "id": "bl-Nd6B155-G",
        "colab_type": "text"
      },
      "source": [
        "Define evaluation model"
      ]
    },
    {
      "cell_type": "code",
      "metadata": {
        "id": "zPKYJoAYDHZY",
        "colab_type": "code",
        "colab": {}
      },
      "source": [
        "def evaluate_model(agent, state, next_state, data, t, total_profit, history, reward, window_size, debug=False):\n",
        "  \n",
        "    print(t)\n",
        "        # select an action\n",
        "    action = agent.act(state, is_eval=True)\n",
        "\n",
        "        # BUY\n",
        "    if action == 1:\n",
        "        agent.inventory.append(data[t])\n",
        "\n",
        "        history.append((data[t], \"BUY\"))\n",
        "        if debug:\n",
        "            logging.debug(\"Buy at: {}\".format(format_currency(data[t])))\n",
        "\n",
        "        # SELL\n",
        "    elif action == 2 and len(agent.inventory) > 0:\n",
        "        bought_price = agent.inventory.pop(0)\n",
        "        delta = data[t] - bought_price\n",
        "        reward = delta #max(delta, 0)\n",
        "        total_profit += delta\n",
        "\n",
        "        history.append((data[t], \"SELL\"))\n",
        "        if debug:\n",
        "            logging.debug(\"Sell at: {} | Position: {}\".format(\n",
        "                    format_currency(data[t]), format_position(data[t] - bought_price)))\n",
        "        # HOLD\n",
        "    else:\n",
        "        history.append((data[t], \"HOLD\"))\n",
        "\n",
        "#        done = (t == data_length - 1)\n",
        "    agent.memory.append((state, action, reward, next_state))\n",
        "\n",
        "    return total_profit\n",
        "\n",
        "\n",
        "   \n",
        "\n",
        "\n"
      ],
      "execution_count": 0,
      "outputs": []
    },
    {
      "cell_type": "code",
      "metadata": {
        "id": "6fyu-7t7ONDS",
        "colab_type": "code",
        "colab": {}
      },
      "source": [
        "def interpretation(df, history, title=\"stock daily session\"):\n",
        "    # add history to dataframe\n",
        "    position = [history[0][0]] + [x[0] for x in history]\n",
        "    actions = ['HOLD'] + [x[1] for x in history]\n",
        "    df['position'] = position\n",
        "    df['action'] = actions\n",
        "    \n",
        "    # specify y-axis scale for stock prices\n",
        "    scale = alt.Scale(domain=(min(min(df['actual']), min(df['position'])) - 10, max(max(df['actual']), max(df['position'])) + 10), clamp=True)\n",
        "    \n",
        "    # plot a line chart for stock positions\n",
        "    actual = alt.Chart(df).mark_line(\n",
        "        color='green',\n",
        "        opacity=0.5\n",
        "    ).encode(\n",
        "        x='date:T',\n",
        "        y=alt.Y('position', axis=alt.Axis(format='$.2f', title='Price'), scale=scale)\n",
        "    ).interactive(\n",
        "        bind_y=False\n",
        "    )\n",
        "    \n",
        "    # plot the BUY and SELL actions as points\n",
        "    points = alt.Chart(df).transform_filter(\n",
        "        alt.datum.action != 'HOLD'\n",
        "    ).mark_point(\n",
        "        filled=True\n",
        "    ).encode(\n",
        "        x=alt.X('date:T', axis=alt.Axis(title='Date')),\n",
        "        y=alt.Y('position', axis=alt.Axis(format='$.2f', title='Price'), scale=scale),\n",
        "        color='action'\n",
        "    ).interactive(bind_y=False)\n",
        "\n",
        "    # merge the two charts\n",
        "    graph = alt.layer(actual, points, title=title).properties(height=300, width=1000)\n",
        "    \n",
        "    return graph"
      ],
      "execution_count": 0,
      "outputs": []
    },
    {
      "cell_type": "markdown",
      "metadata": {
        "id": "RNn30g9K30YI",
        "colab_type": "text"
      },
      "source": [
        "//testing the stock BEXN and graphical representation"
      ]
    },
    {
      "cell_type": "code",
      "metadata": {
        "id": "l8KuJkE1Bb-F",
        "colab_type": "code",
        "outputId": "4da7c356-c03e-4851-8834-498345cd973f",
        "colab": {
          "base_uri": "https://localhost:8080/",
          "height": 118
        }
      },
      "source": [
        " import logging\n",
        " window_size = 10\n",
        " coloredlogs.install(level='DEBUG')\n",
        " switch_k_backend_device()\n",
        " agent = Agent(window_size, pretrained=True, model_name=model_name)\n",
        " test_data = get_stock_data(test_stock)\n",
        " initial_offset = test_data[1] - test_data[0]\n",
        " \n",
        " test_result, history = evaluate_model(agent, test_data, window_size,debug=True)\n",
        " show_eval_result(model_name, test_result, initial_offset)"
      ],
      "execution_count": 18,
      "outputs": [
        {
          "output_type": "stream",
          "text": [
            "2020-05-21 14:51:53 ec9e6023f44b root[1138] DEBUG switching to TensorFlow for CPU\n"
          ],
          "name": "stderr"
        },
        {
          "output_type": "stream",
          "text": [
            "[[0.5 0.5 0.5 0.5 0.5 0.5 0.5 0.5 0.5 0.5]]\n"
          ],
          "name": "stdout"
        },
        {
          "output_type": "stream",
          "text": [
            "2020-05-21 14:52:04 ec9e6023f44b root[1138] DEBUG Buy at: $30028.98\n",
            "2020-05-21 14:52:04 ec9e6023f44b root[1138] DEBUG Sell at: $30196.17 | Position: +$167.19\n",
            "2020-05-21 14:52:04 ec9e6023f44b root[1138] INFO model_debug_50: USELESS\n",
            "\n"
          ],
          "name": "stderr"
        }
      ]
    },
    {
      "cell_type": "code",
      "metadata": {
        "id": "-KBKSHnHOQox",
        "colab_type": "code",
        "outputId": "17229df9-25fc-476f-ec57-9138e10da4f6",
        "colab": {
          "base_uri": "https://localhost:8080/",
          "height": 402
        }
      },
      "source": [
        "graph = interpretation(df, history, title=test_stock)\n",
        "graph"
      ],
      "execution_count": 19,
      "outputs": [
        {
          "output_type": "stream",
          "text": [
            "2020-05-21 14:52:04 ec9e6023f44b numexpr.utils[1138] INFO NumExpr defaulting to 2 threads.\n"
          ],
          "name": "stderr"
        },
        {
          "output_type": "execute_result",
          "data": {
            "text/plain": [
              "alt.LayerChart(...)"
            ],
            "text/html": [
              "\n",
              "<div id=\"altair-viz-7b82000302f64447bbd71dd0e555ee75\"></div>\n",
              "<script type=\"text/javascript\">\n",
              "  (function(spec, embedOpt){\n",
              "    let outputDiv = document.currentScript.previousElementSibling;\n",
              "    if (outputDiv.id !== \"altair-viz-7b82000302f64447bbd71dd0e555ee75\") {\n",
              "      outputDiv = document.getElementById(\"altair-viz-7b82000302f64447bbd71dd0e555ee75\");\n",
              "    }\n",
              "    const paths = {\n",
              "      \"vega\": \"https://cdn.jsdelivr.net/npm//vega@5?noext\",\n",
              "      \"vega-lib\": \"https://cdn.jsdelivr.net/npm//vega-lib?noext\",\n",
              "      \"vega-lite\": \"https://cdn.jsdelivr.net/npm//vega-lite@4.8.1?noext\",\n",
              "      \"vega-embed\": \"https://cdn.jsdelivr.net/npm//vega-embed@6?noext\",\n",
              "    };\n",
              "\n",
              "    function loadScript(lib) {\n",
              "      return new Promise(function(resolve, reject) {\n",
              "        var s = document.createElement('script');\n",
              "        s.src = paths[lib];\n",
              "        s.async = true;\n",
              "        s.onload = () => resolve(paths[lib]);\n",
              "        s.onerror = () => reject(`Error loading script: ${paths[lib]}`);\n",
              "        document.getElementsByTagName(\"head\")[0].appendChild(s);\n",
              "      });\n",
              "    }\n",
              "\n",
              "    function showError(err) {\n",
              "      outputDiv.innerHTML = `<div class=\"error\" style=\"color:red;\">${err}</div>`;\n",
              "      throw err;\n",
              "    }\n",
              "\n",
              "    function displayChart(vegaEmbed) {\n",
              "      vegaEmbed(outputDiv, spec, embedOpt)\n",
              "        .catch(err => showError(`Javascript Error: ${err.message}<br>This usually means there's a typo in your chart specification. See the javascript console for the full traceback.`));\n",
              "    }\n",
              "\n",
              "    if(typeof define === \"function\" && define.amd) {\n",
              "      requirejs.config({paths});\n",
              "      require([\"vega-embed\"], displayChart, err => showError(`Error loading script: ${err.message}`));\n",
              "    } else if (typeof vegaEmbed === \"function\") {\n",
              "      displayChart(vegaEmbed);\n",
              "    } else {\n",
              "      loadScript(\"vega\")\n",
              "        .then(() => loadScript(\"vega-lite\"))\n",
              "        .then(() => loadScript(\"vega-embed\"))\n",
              "        .catch(showError)\n",
              "        .then(() => displayChart(vegaEmbed));\n",
              "    }\n",
              "  })({\"config\": {\"view\": {\"continuousWidth\": 400, \"continuousHeight\": 300}}, \"layer\": [{\"mark\": {\"type\": \"line\", \"color\": \"green\", \"opacity\": 0.5}, \"encoding\": {\"x\": {\"type\": \"temporal\", \"field\": \"date\"}, \"y\": {\"type\": \"quantitative\", \"axis\": {\"format\": \"$.2f\", \"title\": \"Price\"}, \"field\": \"position\", \"scale\": {\"clamp\": true, \"domain\": [30018.98047, 30925.839839999997]}}}, \"selection\": {\"selector001\": {\"type\": \"interval\", \"bind\": \"scales\", \"encodings\": [\"x\"]}}}, {\"mark\": {\"type\": \"point\", \"filled\": true}, \"encoding\": {\"color\": {\"type\": \"nominal\", \"field\": \"action\"}, \"x\": {\"type\": \"temporal\", \"axis\": {\"title\": \"Date\"}, \"field\": \"date\"}, \"y\": {\"type\": \"quantitative\", \"axis\": {\"format\": \"$.2f\", \"title\": \"Price\"}, \"field\": \"position\", \"scale\": {\"clamp\": true, \"domain\": [30018.98047, 30925.839839999997]}}}, \"selection\": {\"selector002\": {\"type\": \"interval\", \"bind\": \"scales\", \"encodings\": [\"x\"]}}, \"transform\": [{\"filter\": \"(datum.action !== 'HOLD')\"}]}], \"data\": {\"name\": \"data-b8d76566c497eec013f245d9ae2ad077\"}, \"height\": 300, \"title\": \"test_stock_rl.csv\", \"width\": 1000, \"$schema\": \"https://vega.github.io/schema/vega-lite/v4.8.1.json\", \"datasets\": {\"data-b8d76566c497eec013f245d9ae2ad077\": [{\"date\": \"2020-05-18T00:00:00\", \"actual\": 30028.98047, \"position\": 30028.98047, \"action\": \"HOLD\"}, {\"date\": \"2020-05-19T00:00:00\", \"actual\": 30196.16992, \"position\": 30028.98047, \"action\": \"BUY\"}, {\"date\": \"2020-05-20T00:00:00\", \"actual\": 30818.60938, \"position\": 30196.16992, \"action\": \"SELL\"}, {\"date\": \"2020-05-21T00:00:00\", \"actual\": 30915.839839999997, \"position\": 30818.60938, \"action\": \"HOLD\"}]}}, {\"mode\": \"vega-lite\"});\n",
              "</script>"
            ]
          },
          "metadata": {
            "tags": []
          },
          "execution_count": 19
        }
      ]
    },
    {
      "cell_type": "markdown",
      "metadata": {
        "colab_type": "text",
        "id": "fuOpyVX48ZqF"
      },
      "source": [
        "FOR OUTPUT GRAPH PLEASE VISIT IN FOLDER output_graphs"
      ]
    },
    {
      "cell_type": "markdown",
      "metadata": {
        "colab_type": "text",
        "id": "w39hZV3_4Tj4"
      },
      "source": [
        "//testing the stock Gold and graphical representation"
      ]
    },
    {
      "cell_type": "code",
      "metadata": {
        "id": "S5MeyM3Yiliw",
        "colab_type": "code",
        "outputId": "cecd2010-0214-44ce-8de1-9e5cc451d8e1",
        "colab": {
          "base_uri": "https://localhost:8080/",
          "height": 118
        }
      },
      "source": [
        " coloredlogs.install(level='DEBUG')\n",
        " switch_k_backend_device()\n",
        " test_data = get_stock_data(total_stock)\n",
        " initial_offset = test_data[1] - test_data[0]\n",
        "\n",
        " test_result, history = evaluate_model(agent, test_data, window_size, debug)\n",
        " show_eval_result(model_name, test_result, initial_offset)"
      ],
      "execution_count": 20,
      "outputs": [
        {
          "output_type": "stream",
          "text": [
            "2020-05-21 14:52:04 ec9e6023f44b root[1138] DEBUG switching to TensorFlow for CPU\n"
          ],
          "name": "stderr"
        },
        {
          "output_type": "stream",
          "text": [
            "[[0.5 0.5 0.5 0.5 0.5 0.5 0.5 0.5 0.5 0.5]]\n"
          ],
          "name": "stdout"
        },
        {
          "output_type": "stream",
          "text": [
            "2020-05-21 14:52:14 ec9e6023f44b root[1138] DEBUG Buy at: $1736.50\n",
            "2020-05-21 14:52:14 ec9e6023f44b root[1138] DEBUG Sell at: $1749.00 | Position: +$12.50\n",
            "2020-05-21 14:52:14 ec9e6023f44b root[1138] INFO model_debug_50: +$12.50\n",
            "\n"
          ],
          "name": "stderr"
        }
      ]
    },
    {
      "cell_type": "code",
      "metadata": {
        "id": "lPG53QvNYMWU",
        "colab_type": "code",
        "outputId": "dbb94e93-70a7-4e25-fc6e-e3923bd922c3",
        "colab": {
          "base_uri": "https://localhost:8080/",
          "height": 385
        }
      },
      "source": [
        "graph = interpretation(df1, history, title=total_stock)\n",
        "graph"
      ],
      "execution_count": 21,
      "outputs": [
        {
          "output_type": "execute_result",
          "data": {
            "text/plain": [
              "alt.LayerChart(...)"
            ],
            "text/html": [
              "\n",
              "<div id=\"altair-viz-9c6821b33a924f74af5cd688a517cd8a\"></div>\n",
              "<script type=\"text/javascript\">\n",
              "  (function(spec, embedOpt){\n",
              "    let outputDiv = document.currentScript.previousElementSibling;\n",
              "    if (outputDiv.id !== \"altair-viz-9c6821b33a924f74af5cd688a517cd8a\") {\n",
              "      outputDiv = document.getElementById(\"altair-viz-9c6821b33a924f74af5cd688a517cd8a\");\n",
              "    }\n",
              "    const paths = {\n",
              "      \"vega\": \"https://cdn.jsdelivr.net/npm//vega@5?noext\",\n",
              "      \"vega-lib\": \"https://cdn.jsdelivr.net/npm//vega-lib?noext\",\n",
              "      \"vega-lite\": \"https://cdn.jsdelivr.net/npm//vega-lite@4.8.1?noext\",\n",
              "      \"vega-embed\": \"https://cdn.jsdelivr.net/npm//vega-embed@6?noext\",\n",
              "    };\n",
              "\n",
              "    function loadScript(lib) {\n",
              "      return new Promise(function(resolve, reject) {\n",
              "        var s = document.createElement('script');\n",
              "        s.src = paths[lib];\n",
              "        s.async = true;\n",
              "        s.onload = () => resolve(paths[lib]);\n",
              "        s.onerror = () => reject(`Error loading script: ${paths[lib]}`);\n",
              "        document.getElementsByTagName(\"head\")[0].appendChild(s);\n",
              "      });\n",
              "    }\n",
              "\n",
              "    function showError(err) {\n",
              "      outputDiv.innerHTML = `<div class=\"error\" style=\"color:red;\">${err}</div>`;\n",
              "      throw err;\n",
              "    }\n",
              "\n",
              "    function displayChart(vegaEmbed) {\n",
              "      vegaEmbed(outputDiv, spec, embedOpt)\n",
              "        .catch(err => showError(`Javascript Error: ${err.message}<br>This usually means there's a typo in your chart specification. See the javascript console for the full traceback.`));\n",
              "    }\n",
              "\n",
              "    if(typeof define === \"function\" && define.amd) {\n",
              "      requirejs.config({paths});\n",
              "      require([\"vega-embed\"], displayChart, err => showError(`Error loading script: ${err.message}`));\n",
              "    } else if (typeof vegaEmbed === \"function\") {\n",
              "      displayChart(vegaEmbed);\n",
              "    } else {\n",
              "      loadScript(\"vega\")\n",
              "        .then(() => loadScript(\"vega-lite\"))\n",
              "        .then(() => loadScript(\"vega-embed\"))\n",
              "        .catch(showError)\n",
              "        .then(() => displayChart(vegaEmbed));\n",
              "    }\n",
              "  })({\"config\": {\"view\": {\"continuousWidth\": 400, \"continuousHeight\": 300}}, \"layer\": [{\"mark\": {\"type\": \"line\", \"color\": \"green\", \"opacity\": 0.5}, \"encoding\": {\"x\": {\"type\": \"temporal\", \"field\": \"date\"}, \"y\": {\"type\": \"quantitative\", \"axis\": {\"format\": \"$.2f\", \"title\": \"Price\"}, \"field\": \"position\", \"scale\": {\"clamp\": true, \"domain\": [1723.699951, 1777.9000239999998]}}}, \"selection\": {\"selector003\": {\"type\": \"interval\", \"bind\": \"scales\", \"encodings\": [\"x\"]}}}, {\"mark\": {\"type\": \"point\", \"filled\": true}, \"encoding\": {\"color\": {\"type\": \"nominal\", \"field\": \"action\"}, \"x\": {\"type\": \"temporal\", \"axis\": {\"title\": \"Date\"}, \"field\": \"date\"}, \"y\": {\"type\": \"quantitative\", \"axis\": {\"format\": \"$.2f\", \"title\": \"Price\"}, \"field\": \"position\", \"scale\": {\"clamp\": true, \"domain\": [1723.699951, 1777.9000239999998]}}}, \"selection\": {\"selector004\": {\"type\": \"interval\", \"bind\": \"scales\", \"encodings\": [\"x\"]}}, \"transform\": [{\"filter\": \"(datum.action !== 'HOLD')\"}]}], \"data\": {\"name\": \"data-7b21cc01c04d3a8e6985f1d4be5ba08c\"}, \"height\": 300, \"title\": \"gold_stock_rl.csv\", \"width\": 1000, \"$schema\": \"https://vega.github.io/schema/vega-lite/v4.8.1.json\", \"datasets\": {\"data-7b21cc01c04d3a8e6985f1d4be5ba08c\": [{\"date\": \"2020-05-17T00:00:00\", \"actual\": 1767.9000239999998, \"position\": 1767.9000239999998, \"action\": \"HOLD\"}, {\"date\": \"2020-05-18T00:00:00\", \"actual\": 1736.5, \"position\": 1767.9000239999998, \"action\": \"HOLD\"}, {\"date\": \"2020-05-19T00:00:00\", \"actual\": 1749.0, \"position\": 1736.5, \"action\": \"BUY\"}, {\"date\": \"2020-05-20T00:00:00\", \"actual\": 1749.699951, \"position\": 1749.0, \"action\": \"SELL\"}, {\"date\": \"2020-05-21T00:00:00\", \"actual\": 1733.699951, \"position\": 1749.699951, \"action\": \"HOLD\"}]}}, {\"mode\": \"vega-lite\"});\n",
              "</script>"
            ]
          },
          "metadata": {
            "tags": []
          },
          "execution_count": 21
        }
      ]
    },
    {
      "cell_type": "markdown",
      "metadata": {
        "id": "AkXkmXE78HSO",
        "colab_type": "text"
      },
      "source": [
        "FOR OUTPUT GRAPH PLEASE VISIT IN FOLDER output_graphs"
      ]
    },
    {
      "cell_type": "markdown",
      "metadata": {
        "colab_type": "text",
        "id": "gUxMeSOMmcG_"
      },
      "source": [
        "//testing the stock SBIN and graphical representation"
      ]
    },
    {
      "cell_type": "code",
      "metadata": {
        "id": "9udpSTrGomFV",
        "colab_type": "code",
        "colab": {
          "base_uri": "https://localhost:8080/",
          "height": 134
        },
        "outputId": "3ca0731b-edb5-4f85-cb5b-eabc8920fa41"
      },
      "source": [
        " import logging\n",
        " window_size = 10\n",
        " coloredlogs.install(level='DEBUG')\n",
        " switch_k_backend_device()\n",
        " agent = Agent(window_size, pretrained=True, model_name=model_name)\n",
        " test_data = get_stock_data(daily_stock)\n",
        " initial_offset = test_data[1] - test_data[0]\n",
        " \n",
        " test_result, history = evaluate_model(agent, test_data, window_size,debug=True)\n",
        " show_eval_result(model_name, test_result, initial_offset)"
      ],
      "execution_count": 22,
      "outputs": [
        {
          "output_type": "stream",
          "text": [
            "2020-05-21 14:52:14 ec9e6023f44b root[1138] DEBUG switching to TensorFlow for CPU\n"
          ],
          "name": "stderr"
        },
        {
          "output_type": "stream",
          "text": [
            "[[0.5 0.5 0.5 0.5 0.5 0.5 0.5 0.5 0.5 0.5]]\n"
          ],
          "name": "stdout"
        },
        {
          "output_type": "stream",
          "text": [
            "2020-05-21 14:52:25 ec9e6023f44b root[1138] DEBUG Buy at: $155.30\n",
            "2020-05-21 14:52:25 ec9e6023f44b root[1138] DEBUG Buy at: $152.80\n",
            "2020-05-21 14:52:25 ec9e6023f44b root[1138] DEBUG Buy at: $153.40\n",
            "2020-05-21 14:52:25 ec9e6023f44b root[1138] INFO model_debug_50: USELESS\n",
            "\n"
          ],
          "name": "stderr"
        }
      ]
    },
    {
      "cell_type": "code",
      "metadata": {
        "id": "dka47PN9l--U",
        "colab_type": "code",
        "colab": {
          "base_uri": "https://localhost:8080/",
          "height": 380
        },
        "outputId": "c133d4a5-81e7-4d1e-b452-b5fa93b39283"
      },
      "source": [
        "graph = interpretation(df2, history, title=daily_stock)\n",
        "graph"
      ],
      "execution_count": 23,
      "outputs": [
        {
          "output_type": "execute_result",
          "data": {
            "text/plain": [
              "alt.LayerChart(...)"
            ],
            "text/html": [
              "\n",
              "<div id=\"altair-viz-1e6f77a98bf54d55a1ba9c9feab692a4\"></div>\n",
              "<script type=\"text/javascript\">\n",
              "  (function(spec, embedOpt){\n",
              "    let outputDiv = document.currentScript.previousElementSibling;\n",
              "    if (outputDiv.id !== \"altair-viz-1e6f77a98bf54d55a1ba9c9feab692a4\") {\n",
              "      outputDiv = document.getElementById(\"altair-viz-1e6f77a98bf54d55a1ba9c9feab692a4\");\n",
              "    }\n",
              "    const paths = {\n",
              "      \"vega\": \"https://cdn.jsdelivr.net/npm//vega@5?noext\",\n",
              "      \"vega-lib\": \"https://cdn.jsdelivr.net/npm//vega-lib?noext\",\n",
              "      \"vega-lite\": \"https://cdn.jsdelivr.net/npm//vega-lite@4.8.1?noext\",\n",
              "      \"vega-embed\": \"https://cdn.jsdelivr.net/npm//vega-embed@6?noext\",\n",
              "    };\n",
              "\n",
              "    function loadScript(lib) {\n",
              "      return new Promise(function(resolve, reject) {\n",
              "        var s = document.createElement('script');\n",
              "        s.src = paths[lib];\n",
              "        s.async = true;\n",
              "        s.onload = () => resolve(paths[lib]);\n",
              "        s.onerror = () => reject(`Error loading script: ${paths[lib]}`);\n",
              "        document.getElementsByTagName(\"head\")[0].appendChild(s);\n",
              "      });\n",
              "    }\n",
              "\n",
              "    function showError(err) {\n",
              "      outputDiv.innerHTML = `<div class=\"error\" style=\"color:red;\">${err}</div>`;\n",
              "      throw err;\n",
              "    }\n",
              "\n",
              "    function displayChart(vegaEmbed) {\n",
              "      vegaEmbed(outputDiv, spec, embedOpt)\n",
              "        .catch(err => showError(`Javascript Error: ${err.message}<br>This usually means there's a typo in your chart specification. See the javascript console for the full traceback.`));\n",
              "    }\n",
              "\n",
              "    if(typeof define === \"function\" && define.amd) {\n",
              "      requirejs.config({paths});\n",
              "      require([\"vega-embed\"], displayChart, err => showError(`Error loading script: ${err.message}`));\n",
              "    } else if (typeof vegaEmbed === \"function\") {\n",
              "      displayChart(vegaEmbed);\n",
              "    } else {\n",
              "      loadScript(\"vega\")\n",
              "        .then(() => loadScript(\"vega-lite\"))\n",
              "        .then(() => loadScript(\"vega-embed\"))\n",
              "        .catch(showError)\n",
              "        .then(() => displayChart(vegaEmbed));\n",
              "    }\n",
              "  })({\"config\": {\"view\": {\"continuousWidth\": 400, \"continuousHeight\": 300}}, \"layer\": [{\"mark\": {\"type\": \"line\", \"color\": \"green\", \"opacity\": 0.5}, \"encoding\": {\"x\": {\"type\": \"temporal\", \"field\": \"date\"}, \"y\": {\"type\": \"quantitative\", \"axis\": {\"format\": \"$.2f\", \"title\": \"Price\"}, \"field\": \"position\", \"scale\": {\"clamp\": true, \"domain\": [141.949997, 165.300003]}}}, \"selection\": {\"selector005\": {\"type\": \"interval\", \"bind\": \"scales\", \"encodings\": [\"x\"]}}}, {\"mark\": {\"type\": \"point\", \"filled\": true}, \"encoding\": {\"color\": {\"type\": \"nominal\", \"field\": \"action\"}, \"x\": {\"type\": \"temporal\", \"axis\": {\"title\": \"Date\"}, \"field\": \"date\"}, \"y\": {\"type\": \"quantitative\", \"axis\": {\"format\": \"$.2f\", \"title\": \"Price\"}, \"field\": \"position\", \"scale\": {\"clamp\": true, \"domain\": [141.949997, 165.300003]}}}, \"selection\": {\"selector006\": {\"type\": \"interval\", \"bind\": \"scales\", \"encodings\": [\"x\"]}}, \"transform\": [{\"filter\": \"(datum.action !== 'HOLD')\"}]}], \"data\": {\"name\": \"data-c93a5a31ace057a170adf38f195d7b9e\"}, \"height\": 300, \"title\": \"SBIN_stock_rl.csv\", \"width\": 1000, \"$schema\": \"https://vega.github.io/schema/vega-lite/v4.8.1.json\", \"datasets\": {\"data-c93a5a31ace057a170adf38f195d7b9e\": [{\"date\": \"2020-05-18T00:00:00\", \"actual\": 155.300003, \"position\": 155.300003, \"action\": \"HOLD\"}, {\"date\": \"2020-05-19T00:00:00\", \"actual\": 152.800003, \"position\": 155.300003, \"action\": \"BUY\"}, {\"date\": \"2020-05-20T00:00:00\", \"actual\": 153.399994, \"position\": 152.800003, \"action\": \"BUY\"}, {\"date\": \"2020-05-21T00:00:00\", \"actual\": 151.949997, \"position\": 153.399994, \"action\": \"BUY\"}]}}, {\"mode\": \"vega-lite\"});\n",
              "</script>"
            ]
          },
          "metadata": {
            "tags": []
          },
          "execution_count": 23
        }
      ]
    },
    {
      "cell_type": "markdown",
      "metadata": {
        "colab_type": "text",
        "id": "pXeEa_Q8mtW_"
      },
      "source": [
        "FOR OUTPUT GRAPH PLEASE VISIT IN FOLDER output_graphs"
      ]
    },
    {
      "cell_type": "markdown",
      "metadata": {
        "colab_type": "text",
        "id": "GRNP2ooZmgEf"
      },
      "source": [
        "//testing the stock BankBaroda and graphical representation"
      ]
    },
    {
      "cell_type": "code",
      "metadata": {
        "id": "Pvnvw829l_KX",
        "colab_type": "code",
        "colab": {
          "base_uri": "https://localhost:8080/",
          "height": 134
        },
        "outputId": "421eb350-1f58-4a62-922d-588a940f2605"
      },
      "source": [
        " import logging\n",
        " window_size = 10\n",
        " coloredlogs.install(level='DEBUG')\n",
        " switch_k_backend_device()\n",
        " agent = Agent(window_size, pretrained=True, model_name=model_name)\n",
        " test_data = get_stock_data(daily1_stock)\n",
        " initial_offset = test_data[1] - test_data[0]\n",
        " \n",
        " test_result, history = evaluate_model(agent, test_data, window_size,debug=True)\n",
        " show_eval_result(model_name, test_result, initial_offset)"
      ],
      "execution_count": 24,
      "outputs": [
        {
          "output_type": "stream",
          "text": [
            "2020-05-21 14:52:25 ec9e6023f44b root[1138] DEBUG switching to TensorFlow for CPU\n"
          ],
          "name": "stderr"
        },
        {
          "output_type": "stream",
          "text": [
            "[[0.5 0.5 0.5 0.5 0.5 0.5 0.5 0.5 0.5 0.5]]\n"
          ],
          "name": "stdout"
        },
        {
          "output_type": "stream",
          "text": [
            "2020-05-21 14:52:36 ec9e6023f44b root[1138] DEBUG Buy at: $38.60\n",
            "2020-05-21 14:52:36 ec9e6023f44b root[1138] DEBUG Sell at: $36.50 | Position: -$2.10\n",
            "2020-05-21 14:52:36 ec9e6023f44b root[1138] DEBUG Buy at: $36.65\n",
            "2020-05-21 14:52:36 ec9e6023f44b root[1138] INFO model_debug_50: USELESS\n",
            "\n"
          ],
          "name": "stderr"
        }
      ]
    },
    {
      "cell_type": "code",
      "metadata": {
        "id": "EN0nvXvamC3e",
        "colab_type": "code",
        "colab": {
          "base_uri": "https://localhost:8080/",
          "height": 385
        },
        "outputId": "8994a5e6-2aeb-4516-b519-8f440c4dbc0f"
      },
      "source": [
        "graph = interpretation(df3, history, title=daily1_stock)\n",
        "graph"
      ],
      "execution_count": 25,
      "outputs": [
        {
          "output_type": "execute_result",
          "data": {
            "text/plain": [
              "alt.LayerChart(...)"
            ],
            "text/html": [
              "\n",
              "<div id=\"altair-viz-cf03bd9720424a2fa36e9220f0209e27\"></div>\n",
              "<script type=\"text/javascript\">\n",
              "  (function(spec, embedOpt){\n",
              "    let outputDiv = document.currentScript.previousElementSibling;\n",
              "    if (outputDiv.id !== \"altair-viz-cf03bd9720424a2fa36e9220f0209e27\") {\n",
              "      outputDiv = document.getElementById(\"altair-viz-cf03bd9720424a2fa36e9220f0209e27\");\n",
              "    }\n",
              "    const paths = {\n",
              "      \"vega\": \"https://cdn.jsdelivr.net/npm//vega@5?noext\",\n",
              "      \"vega-lib\": \"https://cdn.jsdelivr.net/npm//vega-lib?noext\",\n",
              "      \"vega-lite\": \"https://cdn.jsdelivr.net/npm//vega-lite@4.8.1?noext\",\n",
              "      \"vega-embed\": \"https://cdn.jsdelivr.net/npm//vega-embed@6?noext\",\n",
              "    };\n",
              "\n",
              "    function loadScript(lib) {\n",
              "      return new Promise(function(resolve, reject) {\n",
              "        var s = document.createElement('script');\n",
              "        s.src = paths[lib];\n",
              "        s.async = true;\n",
              "        s.onload = () => resolve(paths[lib]);\n",
              "        s.onerror = () => reject(`Error loading script: ${paths[lib]}`);\n",
              "        document.getElementsByTagName(\"head\")[0].appendChild(s);\n",
              "      });\n",
              "    }\n",
              "\n",
              "    function showError(err) {\n",
              "      outputDiv.innerHTML = `<div class=\"error\" style=\"color:red;\">${err}</div>`;\n",
              "      throw err;\n",
              "    }\n",
              "\n",
              "    function displayChart(vegaEmbed) {\n",
              "      vegaEmbed(outputDiv, spec, embedOpt)\n",
              "        .catch(err => showError(`Javascript Error: ${err.message}<br>This usually means there's a typo in your chart specification. See the javascript console for the full traceback.`));\n",
              "    }\n",
              "\n",
              "    if(typeof define === \"function\" && define.amd) {\n",
              "      requirejs.config({paths});\n",
              "      require([\"vega-embed\"], displayChart, err => showError(`Error loading script: ${err.message}`));\n",
              "    } else if (typeof vegaEmbed === \"function\") {\n",
              "      displayChart(vegaEmbed);\n",
              "    } else {\n",
              "      loadScript(\"vega\")\n",
              "        .then(() => loadScript(\"vega-lite\"))\n",
              "        .then(() => loadScript(\"vega-embed\"))\n",
              "        .catch(showError)\n",
              "        .then(() => displayChart(vegaEmbed));\n",
              "    }\n",
              "  })({\"config\": {\"view\": {\"continuousWidth\": 400, \"continuousHeight\": 300}}, \"layer\": [{\"mark\": {\"type\": \"line\", \"color\": \"green\", \"opacity\": 0.5}, \"encoding\": {\"x\": {\"type\": \"temporal\", \"field\": \"date\"}, \"y\": {\"type\": \"quantitative\", \"axis\": {\"format\": \"$.2f\", \"title\": \"Price\"}, \"field\": \"position\", \"scale\": {\"clamp\": true, \"domain\": [26.5, 48.599998]}}}, \"selection\": {\"selector007\": {\"type\": \"interval\", \"bind\": \"scales\", \"encodings\": [\"x\"]}}}, {\"mark\": {\"type\": \"point\", \"filled\": true}, \"encoding\": {\"color\": {\"type\": \"nominal\", \"field\": \"action\"}, \"x\": {\"type\": \"temporal\", \"axis\": {\"title\": \"Date\"}, \"field\": \"date\"}, \"y\": {\"type\": \"quantitative\", \"axis\": {\"format\": \"$.2f\", \"title\": \"Price\"}, \"field\": \"position\", \"scale\": {\"clamp\": true, \"domain\": [26.5, 48.599998]}}}, \"selection\": {\"selector008\": {\"type\": \"interval\", \"bind\": \"scales\", \"encodings\": [\"x\"]}}, \"transform\": [{\"filter\": \"(datum.action !== 'HOLD')\"}]}], \"data\": {\"name\": \"data-f0d96fe8f48f8b15265f53f14cfaeb5b\"}, \"height\": 300, \"title\": \"bankborada_stock_rl.csv\", \"width\": 1000, \"$schema\": \"https://vega.github.io/schema/vega-lite/v4.8.1.json\", \"datasets\": {\"data-f0d96fe8f48f8b15265f53f14cfaeb5b\": [{\"date\": \"2020-05-18T00:00:00\", \"actual\": 38.599998, \"position\": 38.599998, \"action\": \"HOLD\"}, {\"date\": \"2020-05-19T00:00:00\", \"actual\": 36.5, \"position\": 38.599998, \"action\": \"BUY\"}, {\"date\": \"2020-05-20T00:00:00\", \"actual\": 36.650002, \"position\": 36.5, \"action\": \"SELL\"}, {\"date\": \"2020-05-21T00:00:00\", \"actual\": 37.549999, \"position\": 36.650002, \"action\": \"BUY\"}]}}, {\"mode\": \"vega-lite\"});\n",
              "</script>"
            ]
          },
          "metadata": {
            "tags": []
          },
          "execution_count": 25
        }
      ]
    },
    {
      "cell_type": "markdown",
      "metadata": {
        "colab_type": "text",
        "id": "j4sgeI0bmw9p"
      },
      "source": [
        "FOR OUTPUT GRAPH PLEASE VISIT IN FOLDER output_graphs"
      ]
    }
  ]
}